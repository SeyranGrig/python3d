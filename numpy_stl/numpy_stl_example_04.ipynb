{
 "cells": [
  {
   "cell_type": "code",
   "execution_count": 1,
   "metadata": {},
   "outputs": [],
   "source": [
    "from scipy import spatial\n",
    "from stl import mesh\n",
    "import numpy as np"
   ]
  },
  {
   "cell_type": "code",
   "execution_count": 2,
   "metadata": {},
   "outputs": [],
   "source": [
    "depth = 2\n",
    "side = 1/(3**depth)"
   ]
  },
  {
   "cell_type": "code",
   "execution_count": 3,
   "metadata": {},
   "outputs": [],
   "source": [
    "def create_voxel(side, tx, ty, tz):\n",
    "    vertices = np.array([\n",
    "       [tx + 0,     ty + 0,      tz + 0],\n",
    "       [tx + side,  ty + 0,      tz + 0],\n",
    "       [tx + side,  ty + side,   tz + 0],\n",
    "       [tx + 0,     ty + side,   tz + 0],\n",
    "       [tx + 0,     ty + 0,      tz + side],\n",
    "       [tx + side,  ty + 0,      tz + side],\n",
    "       [tx + side,  ty + side,   tz + side],\n",
    "       [tx + 0,     ty + side,   tz + side]\n",
    "    ])\n",
    "    hull = spatial.ConvexHull(vertices)\n",
    "    faces = hull.simplices\n",
    "    voxel = mesh.Mesh(np.zeros(faces.shape[0], dtype=mesh.Mesh.dtype))\n",
    "    for i, f in enumerate(faces):\n",
    "        for j in range(3):\n",
    "            voxel.vectors[i][j] = vertices[f[j],:]\n",
    "    return voxel"
   ]
  },
  {
   "cell_type": "code",
   "execution_count": 4,
   "metadata": {},
   "outputs": [],
   "source": [
    "# holes\n",
    "holes = []\n",
    "side = 1\n",
    "round_factor = 14\n",
    "for d in range(1, depth+1):\n",
    "    side /= 3\n",
    "    for x in range(1,3**d,3):\n",
    "        for y in range(1,3**d,3):           \n",
    "            holes.append({\n",
    "                'x':[round(side*x,round_factor), round(side*x+side,round_factor)],\n",
    "                'y':[round(side*y,round_factor), round(side*y+side,round_factor)]\n",
    "            })"
   ]
  },
  {
   "cell_type": "code",
   "execution_count": 5,
   "metadata": {},
   "outputs": [],
   "source": [
    "def voxel_in_hole(holes, x, y):\n",
    "    comp_error = 0\n",
    "    for hole in holes:\n",
    "        if  x + comp_error >= hole['x'][0] and x - comp_error < hole['x'][1] and \\\n",
    "            y + comp_error >= hole['y'][0] and y - comp_error < hole['y'][1]:\n",
    "            return True\n",
    "    return False"
   ]
  },
  {
   "cell_type": "code",
   "execution_count": 6,
   "metadata": {},
   "outputs": [],
   "source": [
    "sponge = None\n",
    "for x in range(3**depth):\n",
    "    for y in range(3**depth):\n",
    "        for z in range(3**depth):\n",
    "            if  voxel_in_hole(holes, round(y/(3**depth),round_factor), round(z/(3**depth),round_factor)) or \\\n",
    "                voxel_in_hole(holes, round(x/(3**depth),round_factor), round(y/(3**depth),round_factor)) or \\\n",
    "                voxel_in_hole(holes, round(x/(3**depth),round_factor), round(z/(3**depth),round_factor)):\n",
    "                continue\n",
    "            if sponge is None:\n",
    "                sponge = create_voxel(side, x/(3**depth), y/(3**depth), z/(3**depth))\n",
    "            else:\n",
    "                new_voxel = create_voxel(side, x/(3**depth), y/(3**depth), z/(3**depth))\n",
    "                combined = mesh.Mesh(np.concatenate([sponge.data, new_voxel.data]))"
   ]
  },
  {
   "cell_type": "code",
   "execution_count": 7,
   "metadata": {},
   "outputs": [],
   "source": [
    "combined.save('temp.stl')"
   ]
  },
  {
   "cell_type": "markdown",
   "metadata": {},
   "source": [
    "### end"
   ]
  },
  {
   "cell_type": "code",
   "execution_count": null,
   "metadata": {},
   "outputs": [],
   "source": [
    "depth = int(sys.argv[1])\n",
    "side = 1/(3**depth)\n",
    "with_grad = False\n",
    "\n",
    "# vertices\n",
    "vertices_base = [\n",
    "       [0,     0,      0],\n",
    "       [side,  0,      0],\n",
    "       [side,  side,   0],\n",
    "       [0,     side,   0],\n",
    "       [0,     0,      side],\n",
    "       [side,  0,      side],\n",
    "       [side,  side,   side],\n",
    "       [0,     side,   side]\n",
    "   ]\n",
    "vertices = torch.tensor(\n",
    "   vertices_base,\n",
    "   device=device,\n",
    "   dtype=torch.float32,\n",
    "   requires_grad=with_grad,\n",
    ")\n",
    "\n",
    "# faces\n",
    "hull = spatial.ConvexHull(vertices_base)\n",
    "faces = torch.tensor(\n",
    "   hull.simplices,\n",
    "   device=device,\n",
    "   dtype=torch.int64,\n",
    ")\n",
    "\n",
    "# holes\n",
    "holes = []\n",
    "side = 1\n",
    "round_factor = 14\n",
    "for d in range(1, depth+1):\n",
    "   side /= 3\n",
    "   for x in range(1,3**d,3):\n",
    "       for y in range(1,3**d,3):           \n",
    "           holes.append({\n",
    "               'x':[round(side*x,round_factor), round(side*x+side,round_factor)],\n",
    "               'y':[round(side*y,round_factor), round(side*y+side,round_factor)]\n",
    "               })\n",
    "\n",
    "def voxel_in_hole(holes, x, y):\n",
    "   comp_error = 0\n",
    "   for hole in holes:\n",
    "       if  x + comp_error >= hole['x'][0] and x - comp_error < hole['x'][1] and \\\n",
    "           y + comp_error >= hole['y'][0] and y - comp_error < hole['y'][1]:\n",
    "           return True\n",
    "   return False\n",
    "\n",
    "# voxels\n",
    "voxels = []\n",
    "batch = 0\n",
    "mesh = None\n",
    "for x in range(3**depth):\n",
    "   log('x '+ str(x)+' in '+str(3**depth))\n",
    "   for y in range(3**depth):\n",
    "       for z in range(3**depth):\n",
    "           if  voxel_in_hole(holes, round(y/(3**depth),round_factor), round(z/(3**depth),round_factor)) or \\\n",
    "               voxel_in_hole(holes, round(x/(3**depth),round_factor), round(y/(3**depth),round_factor)) or \\\n",
    "               voxel_in_hole(holes, round(x/(3**depth),round_factor), round(z/(3**depth),round_factor)):\n",
    "               continue\n",
    "           voxel_translate = Translate(x/(3**depth), y/(3**depth), z/(3**depth), device=device)\n",
    "           voxel_vertices_translated = voxel_translate.transform_points(vertices)\n",
    "           voxels.append(Meshes(verts=[voxel_vertices_translated], faces=[faces]))\n",
    "   batch += 1\n",
    "   if batch > batch_size:\n",
    "       if not mesh is None:\n",
    "           log('append mesh')\n",
    "           voxels.append(mesh)\n",
    "       log('join')\n",
    "       mesh = join_meshes_as_scene(voxels)\n",
    "       voxels = []\n",
    "       batch = 0\n",
    "\n",
    "\n",
    "log('join')\n",
    "if len(voxels):\n",
    "   if not mesh is None:\n",
    "       voxels.append(mesh)\n",
    "   mesh = join_meshes_as_scene(voxels)\n",
    "log('save')\n",
    "IO().save_mesh(mesh, '/media/alex/nvme-a/'+'menger_sponge_'+str(depth)+'.obj')\n",
    "log('end')\n"
   ]
  }
 ],
 "metadata": {
  "kernelspec": {
   "display_name": "Python 3.8.5 64-bit",
   "language": "python",
   "name": "python385jvsc74a57bd031f2aee4e71d21fbe5cf8b01ff0e069b9275f58929596ceb00d14d90e3e16cd6"
  },
  "language_info": {
   "codemirror_mode": {
    "name": "ipython",
    "version": 3
   },
   "file_extension": ".py",
   "mimetype": "text/x-python",
   "name": "python",
   "nbconvert_exporter": "python",
   "pygments_lexer": "ipython3",
   "version": "3.8.10"
  }
 },
 "nbformat": 4,
 "nbformat_minor": 2
}
