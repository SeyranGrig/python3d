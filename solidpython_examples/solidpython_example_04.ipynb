{
 "cells": [
  {
   "cell_type": "code",
   "execution_count": 1,
   "metadata": {},
   "outputs": [],
   "source": [
    "from solid import *"
   ]
  },
  {
   "cell_type": "code",
   "execution_count": 2,
   "metadata": {},
   "outputs": [],
   "source": [
    "# export to png\n",
    "!openscad solidpython_example_03.scad -o solidpython_example_03.png\n",
    "pil_img = Image(filename='solidpython_example_03.png')\n",
    "display(pil_img)"
   ]
  },
  {
   "cell_type": "code",
   "execution_count": null,
   "metadata": {},
   "outputs": [],
   "source": [
    "# export to png with camera params\n",
    "# camera parameters when exporting png: \n",
    "# =translate_x,y,z,rot_x,y,z,dist or \n",
    "# =eye_x,y,z,center_x,y,z\n",
    "!openscad solidpython_example_03.scad --camera '0,0,0,-20,0,45,5' -o solidpython_example_03.png\n",
    "pil_img = Image(filename='solidpython_example_03.png')\n",
    "display(pil_img)"
   ]
  }
 ],
 "metadata": {
  "kernelspec": {
   "display_name": "Python [conda env:root] *",
   "language": "python",
   "name": "conda-root-py"
  },
  "language_info": {
   "codemirror_mode": {
    "name": "ipython",
    "version": 3
   },
   "file_extension": ".py",
   "mimetype": "text/x-python",
   "name": "python",
   "nbconvert_exporter": "python",
   "pygments_lexer": "ipython3",
   "version": "3.7.3"
  }
 },
 "nbformat": 4,
 "nbformat_minor": 5
}
